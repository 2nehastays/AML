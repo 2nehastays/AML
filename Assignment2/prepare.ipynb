{
 "cells": [
  {
   "cell_type": "code",
   "execution_count": 1,
   "id": "fbc17dea",
   "metadata": {},
   "outputs": [],
   "source": [
    "import pandas as pd"
   ]
  },
  {
   "cell_type": "code",
   "execution_count": 2,
   "id": "2f75ecdc",
   "metadata": {},
   "outputs": [],
   "source": [
    "df = pd.read_csv('data/raw_data.csv')"
   ]
  },
  {
   "cell_type": "code",
   "execution_count": 3,
   "id": "ea343ead",
   "metadata": {},
   "outputs": [
    {
     "data": {
      "text/html": [
       "<div>\n",
       "<style scoped>\n",
       "    .dataframe tbody tr th:only-of-type {\n",
       "        vertical-align: middle;\n",
       "    }\n",
       "\n",
       "    .dataframe tbody tr th {\n",
       "        vertical-align: top;\n",
       "    }\n",
       "\n",
       "    .dataframe thead th {\n",
       "        text-align: right;\n",
       "    }\n",
       "</style>\n",
       "<table border=\"1\" class=\"dataframe\">\n",
       "  <thead>\n",
       "    <tr style=\"text-align: right;\">\n",
       "      <th></th>\n",
       "      <th>Gender</th>\n",
       "      <th>Height</th>\n",
       "      <th>Weight</th>\n",
       "      <th>Index</th>\n",
       "    </tr>\n",
       "  </thead>\n",
       "  <tbody>\n",
       "    <tr>\n",
       "      <th>0</th>\n",
       "      <td>Male</td>\n",
       "      <td>174</td>\n",
       "      <td>96</td>\n",
       "      <td>4</td>\n",
       "    </tr>\n",
       "    <tr>\n",
       "      <th>1</th>\n",
       "      <td>Male</td>\n",
       "      <td>189</td>\n",
       "      <td>87</td>\n",
       "      <td>2</td>\n",
       "    </tr>\n",
       "    <tr>\n",
       "      <th>2</th>\n",
       "      <td>Female</td>\n",
       "      <td>185</td>\n",
       "      <td>110</td>\n",
       "      <td>4</td>\n",
       "    </tr>\n",
       "    <tr>\n",
       "      <th>3</th>\n",
       "      <td>Female</td>\n",
       "      <td>195</td>\n",
       "      <td>104</td>\n",
       "      <td>3</td>\n",
       "    </tr>\n",
       "    <tr>\n",
       "      <th>4</th>\n",
       "      <td>Male</td>\n",
       "      <td>149</td>\n",
       "      <td>61</td>\n",
       "      <td>3</td>\n",
       "    </tr>\n",
       "  </tbody>\n",
       "</table>\n",
       "</div>"
      ],
      "text/plain": [
       "   Gender  Height  Weight  Index\n",
       "0    Male     174      96      4\n",
       "1    Male     189      87      2\n",
       "2  Female     185     110      4\n",
       "3  Female     195     104      3\n",
       "4    Male     149      61      3"
      ]
     },
     "execution_count": 3,
     "metadata": {},
     "output_type": "execute_result"
    }
   ],
   "source": [
    "df.head()"
   ]
  },
  {
   "cell_type": "code",
   "execution_count": 4,
   "id": "9e38f54e",
   "metadata": {},
   "outputs": [],
   "source": [
    "from sklearn.model_selection import train_test_split"
   ]
  },
  {
   "cell_type": "code",
   "execution_count": 5,
   "id": "7bc9591f",
   "metadata": {},
   "outputs": [],
   "source": [
    "train_data, rem_data= train_test_split(df, train_size=0.8,random_state = 42)\n",
    "valid_data, test_data = train_test_split(rem_data, test_size=0.5,random_state = 42)"
   ]
  },
  {
   "cell_type": "markdown",
   "id": "778a89cc",
   "metadata": {},
   "source": [
    "#### Storing Data to the data folder"
   ]
  },
  {
   "cell_type": "code",
   "execution_count": 6,
   "id": "3a0d4338",
   "metadata": {},
   "outputs": [],
   "source": [
    "train_data.to_csv('data/train.csv',index = False)\n",
    "test_data.to_csv('data/test.csv',index = False)\n",
    "valid_data.to_csv('data/validation.csv',index = False)"
   ]
  },
  {
   "cell_type": "code",
   "execution_count": 7,
   "id": "c0951438",
   "metadata": {},
   "outputs": [],
   "source": [
    "#!pip install dvc"
   ]
  },
  {
   "cell_type": "code",
   "execution_count": 8,
   "id": "16909df3",
   "metadata": {},
   "outputs": [],
   "source": [
    "!git config --global user.email \"nehanehastays@gmail.com\"\n",
    "!git config --global user.name \"2nehastays\""
   ]
  },
  {
   "cell_type": "code",
   "execution_count": 9,
   "id": "5ef7a3a3",
   "metadata": {},
   "outputs": [
    {
     "data": {
      "text/plain": [
       "(106.06, 109.24, 102.28)"
      ]
     },
     "execution_count": 9,
     "metadata": {},
     "output_type": "execute_result"
    }
   ],
   "source": [
    "df_train = pd.read_csv('data/train.csv')\n",
    "df_test = pd.read_csv('data/test.csv')\n",
    "df_validation = pd.read_csv('data/validation.csv')\n",
    "df_train['Weight'].mean(),df_test['Weight'].mean(),df_validation['Weight'].mean()"
   ]
  },
  {
   "cell_type": "markdown",
   "id": "aca0e826",
   "metadata": {},
   "source": [
    "#### Initialising git and DVC"
   ]
  },
  {
   "cell_type": "code",
   "execution_count": 10,
   "id": "be2d048c",
   "metadata": {},
   "outputs": [
    {
     "name": "stdout",
     "output_type": "stream",
     "text": [
      "Initialized empty Git repository in C:/Users/Neha/Documents/AML/assignemnt_dvc/.git/\n"
     ]
    },
    {
     "name": "stderr",
     "output_type": "stream",
     "text": [
      "hint: Using 'master' as the name for the initial branch. This default branch name\n",
      "hint: is subject to change. To configure the initial branch name to use in all\n",
      "hint: of your new repositories, which will suppress this warning, call:\n",
      "hint: \n",
      "hint: \tgit config --global init.defaultBranch <name>\n",
      "hint: \n",
      "hint: Names commonly chosen instead of 'master' are 'main', 'trunk' and\n",
      "hint: 'development'. The just-created branch can be renamed via this command:\n",
      "hint: \n",
      "hint: \tgit branch -m <name>\n"
     ]
    }
   ],
   "source": [
    "!git init"
   ]
  },
  {
   "cell_type": "code",
   "execution_count": 11,
   "id": "ccdd3f39",
   "metadata": {},
   "outputs": [
    {
     "name": "stdout",
     "output_type": "stream",
     "text": [
      "Initialized DVC repository.\n",
      "\n",
      "You can now commit the changes to git.\n",
      "\n",
      "+---------------------------------------------------------------------+\n",
      "|                                                                     |\n",
      "|        DVC has enabled anonymous aggregate usage analytics.         |\n",
      "|     Read the analytics documentation (and how to opt-out) here:     |\n",
      "|             <https://dvc.org/doc/user-guide/analytics>              |\n",
      "|                                                                     |\n",
      "+---------------------------------------------------------------------+\n",
      "\n",
      "What's next?\n",
      "------------\n",
      "- Check out the documentation: <https://dvc.org/doc>\n",
      "- Get help and share ideas: <https://dvc.org/chat>\n",
      "- Star us on GitHub: <https://github.com/iterative/dvc>\n"
     ]
    }
   ],
   "source": [
    "!dvc init"
   ]
  },
  {
   "cell_type": "code",
   "execution_count": 12,
   "id": "664f4e1d",
   "metadata": {},
   "outputs": [
    {
     "name": "stdout",
     "output_type": "stream",
     "text": [
      "\n",
      "To track the changes with git, run:\n",
      "\n",
      "\tgit add data.dvc .gitignore\n",
      "\n",
      "To enable auto staging, run:\n",
      "\n",
      "\tdvc config core.autostage true\n"
     ]
    }
   ],
   "source": [
    "!dvc add data"
   ]
  },
  {
   "cell_type": "code",
   "execution_count": 13,
   "id": "f9133932",
   "metadata": {},
   "outputs": [],
   "source": [
    "!git add data.dvc .gitignore"
   ]
  },
  {
   "cell_type": "code",
   "execution_count": 14,
   "id": "ed361120",
   "metadata": {},
   "outputs": [],
   "source": [
    "!dvc config core.autostage true"
   ]
  },
  {
   "cell_type": "code",
   "execution_count": 15,
   "id": "f4ccfe6b",
   "metadata": {},
   "outputs": [
    {
     "name": "stdout",
     "output_type": "stream",
     "text": [
      "[master (root-commit) 40792e3] start tracking data new_0\n",
      " 5 files changed, 12 insertions(+)\n",
      " create mode 100644 .dvc/.gitignore\n",
      " create mode 100644 .dvc/config\n",
      " create mode 100644 .dvcignore\n",
      " create mode 100644 .gitignore\n",
      " create mode 100644 data.dvc\n"
     ]
    }
   ],
   "source": [
    "!git commit -m \"start tracking data new_0\""
   ]
  },
  {
   "cell_type": "code",
   "execution_count": 16,
   "id": "32629e00",
   "metadata": {},
   "outputs": [],
   "source": [
    "# !git add C:\\Users\\Neha\\Documents\\AML\\dvc_assignment\\data.dvc\n",
    "# #!git add C:\\Users\\Neha\\Documents\\AML\\Assignment2\\.dvignore\n",
    "# !git commit -m \"start tracking data new\""
   ]
  },
  {
   "cell_type": "code",
   "execution_count": 17,
   "id": "b4c599b9",
   "metadata": {},
   "outputs": [
    {
     "data": {
      "text/plain": [
       "(106.06, 109.24, 102.28)"
      ]
     },
     "execution_count": 17,
     "metadata": {},
     "output_type": "execute_result"
    }
   ],
   "source": [
    "df_train = pd.read_csv('data/train.csv')\n",
    "df_test = pd.read_csv('data/test.csv')\n",
    "df_validation = pd.read_csv('data/validation.csv')\n",
    "df_train['Weight'].mean(),df_test['Weight'].mean(),df_validation['Weight'].mean()"
   ]
  },
  {
   "cell_type": "markdown",
   "id": "fe299d72",
   "metadata": {},
   "source": [
    "#### Changing seed from 42 to 9"
   ]
  },
  {
   "cell_type": "code",
   "execution_count": 87,
   "id": "e3161bce",
   "metadata": {},
   "outputs": [],
   "source": [
    "train_data, rem_data= train_test_split(df, train_size=0.8,random_state = 9)\n",
    "valid_data, test_data = train_test_split(rem_data, test_size=0.5,random_state = 9)"
   ]
  },
  {
   "cell_type": "code",
   "execution_count": 88,
   "id": "ef603fe3",
   "metadata": {},
   "outputs": [],
   "source": [
    "train_data.to_csv('data/train.csv',index = False)\n",
    "test_data.to_csv('data/test.csv',index = False)\n",
    "valid_data.to_csv('data/validation.csv',index = False)"
   ]
  },
  {
   "cell_type": "code",
   "execution_count": 89,
   "id": "53f2ea4c",
   "metadata": {},
   "outputs": [],
   "source": [
    "!dvc add data\n",
    "#!git add C:\\Users\\Neha\\Documents\\AML\\dvc_assignment\\data.dvc\n",
    "#!git commit -m \"changed random seed to 123 new\""
   ]
  },
  {
   "cell_type": "code",
   "execution_count": null,
   "id": "bc620f61",
   "metadata": {},
   "outputs": [],
   "source": []
  },
  {
   "cell_type": "code",
   "execution_count": 67,
   "id": "08a45c72",
   "metadata": {},
   "outputs": [
    {
     "name": "stdout",
     "output_type": "stream",
     "text": [
      "Data and pipelines are up to date.\n"
     ]
    }
   ],
   "source": [
    "!dvc status"
   ]
  },
  {
   "cell_type": "code",
   "execution_count": 90,
   "id": "ad2d6fca",
   "metadata": {},
   "outputs": [],
   "source": [
    "!git add data.dvc .gitignore"
   ]
  },
  {
   "cell_type": "code",
   "execution_count": 91,
   "id": "2409f2d1",
   "metadata": {},
   "outputs": [],
   "source": [
    "!dvc config core.autostage true"
   ]
  },
  {
   "cell_type": "code",
   "execution_count": 92,
   "id": "4f01cf3e",
   "metadata": {},
   "outputs": [
    {
     "name": "stdout",
     "output_type": "stream",
     "text": [
      "On branch master\n",
      "Changes to be committed:\n",
      "  (use \"git restore --staged <file>...\" to unstage)\n",
      "\tmodified:   data.dvc\n",
      "\n",
      "Changes not staged for commit:\n",
      "  (use \"git add <file>...\" to update what will be committed)\n",
      "  (use \"git restore <file>...\" to discard changes in working directory)\n",
      "\tmodified:   .dvc/config\n",
      "\n",
      "Untracked files:\n",
      "  (use \"git add <file>...\" to include in what will be committed)\n",
      "\t.ipynb_checkpoints/\n",
      "\tprepare.ipynb\n",
      "\n"
     ]
    }
   ],
   "source": [
    "!git status"
   ]
  },
  {
   "cell_type": "code",
   "execution_count": 93,
   "id": "63cef86e",
   "metadata": {},
   "outputs": [
    {
     "name": "stdout",
     "output_type": "stream",
     "text": [
      "[master f9ce3ee] changed random seed to 9\n",
      " 1 file changed, 1 insertion(+), 1 deletion(-)\n"
     ]
    }
   ],
   "source": [
    "!git commit -m \"changed random seed to 9\""
   ]
  },
  {
   "cell_type": "code",
   "execution_count": 77,
   "id": "2d8af959",
   "metadata": {},
   "outputs": [
    {
     "name": "stdout",
     "output_type": "stream",
     "text": [
      "On branch master\n",
      "Changes not staged for commit:\n",
      "  (use \"git add <file>...\" to update what will be committed)\n",
      "  (use \"git restore <file>...\" to discard changes in working directory)\n",
      "\tmodified:   .dvc/config\n",
      "\n",
      "Untracked files:\n",
      "  (use \"git add <file>...\" to include in what will be committed)\n",
      "\t.ipynb_checkpoints/\n",
      "\tprepare.ipynb\n",
      "\n",
      "no changes added to commit (use \"git add\" and/or \"git commit -a\")\n"
     ]
    }
   ],
   "source": [
    "!git status"
   ]
  },
  {
   "cell_type": "code",
   "execution_count": 94,
   "id": "31c1355e",
   "metadata": {},
   "outputs": [
    {
     "data": {
      "text/plain": [
       "(105.8775, 108.62, 104.36)"
      ]
     },
     "execution_count": 94,
     "metadata": {},
     "output_type": "execute_result"
    }
   ],
   "source": [
    "df_train = pd.read_csv('data/train.csv')\n",
    "df_test = pd.read_csv('data/test.csv')\n",
    "df_validation = pd.read_csv('data/validation.csv')\n",
    "df_train['Weight'].mean(),df_test['Weight'].mean(),df_validation['Weight'].mean()"
   ]
  },
  {
   "cell_type": "code",
   "execution_count": 68,
   "id": "a64fc790",
   "metadata": {
    "scrolled": true
   },
   "outputs": [],
   "source": [
    "!dvc checkout data.dvc -f"
   ]
  },
  {
   "cell_type": "code",
   "execution_count": 61,
   "id": "e259d511",
   "metadata": {},
   "outputs": [],
   "source": [
    "!git restore --ours data.dvc"
   ]
  },
  {
   "cell_type": "code",
   "execution_count": 96,
   "id": "6912eee5",
   "metadata": {},
   "outputs": [
    {
     "data": {
      "text/plain": [
       "(105.8775, 108.62, 104.36)"
      ]
     },
     "execution_count": 96,
     "metadata": {},
     "output_type": "execute_result"
    }
   ],
   "source": [
    "df_train = pd.read_csv('data/train.csv')\n",
    "df_test = pd.read_csv('data/test.csv')\n",
    "df_validation = pd.read_csv('data/validation.csv')\n",
    "df_train['Weight'].mean(),df_test['Weight'].mean(),df_validation['Weight'].mean()"
   ]
  },
  {
   "cell_type": "markdown",
   "id": "00bc1552",
   "metadata": {},
   "source": [
    "#### Moving the head to the previous commit"
   ]
  },
  {
   "cell_type": "code",
   "execution_count": 102,
   "id": "add45948",
   "metadata": {},
   "outputs": [
    {
     "name": "stdout",
     "output_type": "stream",
     "text": [
      "HEAD is now at 40792e3 start tracking data new_0\n"
     ]
    }
   ],
   "source": [
    "!git reset --hard 40792e3"
   ]
  },
  {
   "cell_type": "code",
   "execution_count": 103,
   "id": "d2505ca3",
   "metadata": {},
   "outputs": [
    {
     "data": {
      "text/plain": [
       "(105.8775, 108.62, 104.36)"
      ]
     },
     "execution_count": 103,
     "metadata": {},
     "output_type": "execute_result"
    }
   ],
   "source": [
    "df_train = pd.read_csv('data/train.csv')\n",
    "df_test = pd.read_csv('data/test.csv')\n",
    "df_validation = pd.read_csv('data/validation.csv')\n",
    "df_train['Weight'].mean(),df_test['Weight'].mean(),df_validation['Weight'].mean()"
   ]
  },
  {
   "cell_type": "code",
   "execution_count": 104,
   "id": "e1f2e679",
   "metadata": {},
   "outputs": [
    {
     "name": "stdout",
     "output_type": "stream",
     "text": [
      "On branch master\n",
      "Untracked files:\n",
      "  (use \"git add <file>...\" to include in what will be committed)\n",
      "\t.ipynb_checkpoints/\n",
      "\tprepare.ipynb\n",
      "\n",
      "nothing added to commit but untracked files present (use \"git add\" to track)\n"
     ]
    }
   ],
   "source": [
    "!git commit -m \"resetting previous commit\""
   ]
  },
  {
   "cell_type": "code",
   "execution_count": 106,
   "id": "9c650314",
   "metadata": {},
   "outputs": [
    {
     "name": "stdout",
     "output_type": "stream",
     "text": [
      "M       data\\\n"
     ]
    }
   ],
   "source": [
    "!dvc checkout "
   ]
  },
  {
   "cell_type": "code",
   "execution_count": 107,
   "id": "2a558b65",
   "metadata": {},
   "outputs": [
    {
     "data": {
      "text/plain": [
       "(106.06, 109.24, 102.28)"
      ]
     },
     "execution_count": 107,
     "metadata": {},
     "output_type": "execute_result"
    }
   ],
   "source": [
    "df_train = pd.read_csv('data/train.csv')\n",
    "df_test = pd.read_csv('data/test.csv')\n",
    "df_validation = pd.read_csv('data/validation.csv')\n",
    "df_train['Weight'].mean(),df_test['Weight'].mean(),df_validation['Weight'].mean()"
   ]
  },
  {
   "cell_type": "markdown",
   "id": "3e14603c",
   "metadata": {},
   "source": [
    "### We are getting the previous data version"
   ]
  },
  {
   "cell_type": "code",
   "execution_count": null,
   "id": "d5f916d9",
   "metadata": {},
   "outputs": [],
   "source": []
  }
 ],
 "metadata": {
  "kernelspec": {
   "display_name": "Python 3 (ipykernel)",
   "language": "python",
   "name": "python3"
  },
  "language_info": {
   "codemirror_mode": {
    "name": "ipython",
    "version": 3
   },
   "file_extension": ".py",
   "mimetype": "text/x-python",
   "name": "python",
   "nbconvert_exporter": "python",
   "pygments_lexer": "ipython3",
   "version": "3.9.12"
  }
 },
 "nbformat": 4,
 "nbformat_minor": 5
}
