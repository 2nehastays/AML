{
 "cells": [
  {
   "cell_type": "code",
   "execution_count": 1,
   "id": "fbc17dea",
   "metadata": {},
   "outputs": [],
   "source": [
    "import pandas as pd"
   ]
  },
  {
   "cell_type": "code",
   "execution_count": 2,
   "id": "2f75ecdc",
   "metadata": {},
   "outputs": [],
   "source": [
    "df = pd.read_csv('data/raw_data.csv')"
   ]
  },
  {
   "cell_type": "code",
   "execution_count": 3,
   "id": "ea343ead",
   "metadata": {},
   "outputs": [
    {
     "data": {
      "text/html": [
       "<div>\n",
       "<style scoped>\n",
       "    .dataframe tbody tr th:only-of-type {\n",
       "        vertical-align: middle;\n",
       "    }\n",
       "\n",
       "    .dataframe tbody tr th {\n",
       "        vertical-align: top;\n",
       "    }\n",
       "\n",
       "    .dataframe thead th {\n",
       "        text-align: right;\n",
       "    }\n",
       "</style>\n",
       "<table border=\"1\" class=\"dataframe\">\n",
       "  <thead>\n",
       "    <tr style=\"text-align: right;\">\n",
       "      <th></th>\n",
       "      <th>Unnamed: 0</th>\n",
       "      <th>label</th>\n",
       "      <th>message</th>\n",
       "    </tr>\n",
       "  </thead>\n",
       "  <tbody>\n",
       "    <tr>\n",
       "      <th>0</th>\n",
       "      <td>0</td>\n",
       "      <td>0</td>\n",
       "      <td>Go until jurong point, crazy.. Available only ...</td>\n",
       "    </tr>\n",
       "    <tr>\n",
       "      <th>1</th>\n",
       "      <td>1</td>\n",
       "      <td>0</td>\n",
       "      <td>Ok lar... Joking wif u oni...</td>\n",
       "    </tr>\n",
       "    <tr>\n",
       "      <th>2</th>\n",
       "      <td>2</td>\n",
       "      <td>1</td>\n",
       "      <td>Free entry in 2 a wkly comp to win FA Cup fina...</td>\n",
       "    </tr>\n",
       "    <tr>\n",
       "      <th>3</th>\n",
       "      <td>3</td>\n",
       "      <td>0</td>\n",
       "      <td>U dun say so early hor... U c already then say...</td>\n",
       "    </tr>\n",
       "    <tr>\n",
       "      <th>4</th>\n",
       "      <td>4</td>\n",
       "      <td>0</td>\n",
       "      <td>Nah I don't think he goes to usf, he lives aro...</td>\n",
       "    </tr>\n",
       "  </tbody>\n",
       "</table>\n",
       "</div>"
      ],
      "text/plain": [
       "   Unnamed: 0  label                                            message\n",
       "0           0      0  Go until jurong point, crazy.. Available only ...\n",
       "1           1      0                      Ok lar... Joking wif u oni...\n",
       "2           2      1  Free entry in 2 a wkly comp to win FA Cup fina...\n",
       "3           3      0  U dun say so early hor... U c already then say...\n",
       "4           4      0  Nah I don't think he goes to usf, he lives aro..."
      ]
     },
     "execution_count": 3,
     "metadata": {},
     "output_type": "execute_result"
    }
   ],
   "source": [
    "df.head()"
   ]
  },
  {
   "cell_type": "code",
   "execution_count": 4,
   "id": "9e38f54e",
   "metadata": {},
   "outputs": [],
   "source": [
    "from sklearn.model_selection import train_test_split"
   ]
  },
  {
   "cell_type": "code",
   "execution_count": 5,
   "id": "7bc9591f",
   "metadata": {},
   "outputs": [],
   "source": [
    "train_data, rem_data= train_test_split(df, train_size=0.8,random_state = 42)\n",
    "valid_data, test_data = train_test_split(rem_data, test_size=0.5,random_state = 42)"
   ]
  },
  {
   "cell_type": "markdown",
   "id": "778a89cc",
   "metadata": {},
   "source": [
    "#### Storing Data to the data folder"
   ]
  },
  {
   "cell_type": "code",
   "execution_count": 6,
   "id": "3a0d4338",
   "metadata": {},
   "outputs": [],
   "source": [
    "train_data.to_csv('data/train.csv',index = False)\n",
    "test_data.to_csv('data/test.csv',index = False)\n",
    "valid_data.to_csv('data/validation.csv',index = False)"
   ]
  },
  {
   "cell_type": "code",
   "execution_count": 7,
   "id": "c0951438",
   "metadata": {},
   "outputs": [],
   "source": [
    "#!pip install dvc"
   ]
  },
  {
   "cell_type": "code",
   "execution_count": 8,
   "id": "16909df3",
   "metadata": {},
   "outputs": [],
   "source": [
    "!git config --global user.email \"nehanehastays@gmail.com\"\n",
    "!git config --global user.name \"2nehastays\""
   ]
  },
  {
   "cell_type": "code",
   "execution_count": 9,
   "id": "5ef7a3a3",
   "metadata": {},
   "outputs": [
    {
     "data": {
      "text/plain": [
       "(0.1314196008073559, 0.12903225806451613, 0.15978456014362658)"
      ]
     },
     "execution_count": 9,
     "metadata": {},
     "output_type": "execute_result"
    }
   ],
   "source": [
    "df_train = pd.read_csv('data/train.csv')\n",
    "df_test = pd.read_csv('data/test.csv')\n",
    "df_validation = pd.read_csv('data/validation.csv')\n",
    "df_train['label'].mean(),df_test['label'].mean(),df_validation['label'].mean()"
   ]
  },
  {
   "cell_type": "markdown",
   "id": "aca0e826",
   "metadata": {},
   "source": [
    "#### Initialising git and DVC"
   ]
  },
  {
   "cell_type": "code",
   "execution_count": 10,
   "id": "be2d048c",
   "metadata": {},
   "outputs": [
    {
     "name": "stdout",
     "output_type": "stream",
     "text": [
      "Initialized empty Git repository in C:/Users/Neha/Documents/AML/As2/.git/\n"
     ]
    },
    {
     "name": "stderr",
     "output_type": "stream",
     "text": [
      "hint: Using 'master' as the name for the initial branch. This default branch name\n",
      "hint: is subject to change. To configure the initial branch name to use in all\n",
      "hint: of your new repositories, which will suppress this warning, call:\n",
      "hint: \n",
      "hint: \tgit config --global init.defaultBranch <name>\n",
      "hint: \n",
      "hint: Names commonly chosen instead of 'master' are 'main', 'trunk' and\n",
      "hint: 'development'. The just-created branch can be renamed via this command:\n",
      "hint: \n",
      "hint: \tgit branch -m <name>\n"
     ]
    }
   ],
   "source": [
    "!git init"
   ]
  },
  {
   "cell_type": "code",
   "execution_count": 11,
   "id": "ccdd3f39",
   "metadata": {},
   "outputs": [
    {
     "name": "stdout",
     "output_type": "stream",
     "text": [
      "Initialized DVC repository.\n",
      "\n",
      "You can now commit the changes to git.\n",
      "\n",
      "+---------------------------------------------------------------------+\n",
      "|                                                                     |\n",
      "|        DVC has enabled anonymous aggregate usage analytics.         |\n",
      "|     Read the analytics documentation (and how to opt-out) here:     |\n",
      "|             <https://dvc.org/doc/user-guide/analytics>              |\n",
      "|                                                                     |\n",
      "+---------------------------------------------------------------------+\n",
      "\n",
      "What's next?\n",
      "------------\n",
      "- Check out the documentation: <https://dvc.org/doc>\n",
      "- Get help and share ideas: <https://dvc.org/chat>\n",
      "- Star us on GitHub: <https://github.com/iterative/dvc>\n"
     ]
    }
   ],
   "source": [
    "!dvc init"
   ]
  },
  {
   "cell_type": "code",
   "execution_count": 12,
   "id": "664f4e1d",
   "metadata": {},
   "outputs": [
    {
     "name": "stdout",
     "output_type": "stream",
     "text": [
      "\n",
      "To track the changes with git, run:\n",
      "\n",
      "\tgit add .gitignore data.dvc\n",
      "\n",
      "To enable auto staging, run:\n",
      "\n",
      "\tdvc config core.autostage true\n"
     ]
    }
   ],
   "source": [
    "!dvc add data"
   ]
  },
  {
   "cell_type": "code",
   "execution_count": 13,
   "id": "f9133932",
   "metadata": {},
   "outputs": [],
   "source": [
    "!git add data.dvc .gitignore"
   ]
  },
  {
   "cell_type": "code",
   "execution_count": 14,
   "id": "ed361120",
   "metadata": {},
   "outputs": [],
   "source": [
    "!dvc config core.autostage true"
   ]
  },
  {
   "cell_type": "code",
   "execution_count": 15,
   "id": "f4ccfe6b",
   "metadata": {},
   "outputs": [
    {
     "name": "stdout",
     "output_type": "stream",
     "text": [
      "[master (root-commit) 32a830f] start tracking data new_0\n",
      " 5 files changed, 12 insertions(+)\n",
      " create mode 100644 .dvc/.gitignore\n",
      " create mode 100644 .dvc/config\n",
      " create mode 100644 .dvcignore\n",
      " create mode 100644 .gitignore\n",
      " create mode 100644 data.dvc\n"
     ]
    }
   ],
   "source": [
    "!git commit -m \"start tracking data new_0\""
   ]
  },
  {
   "cell_type": "code",
   "execution_count": 16,
   "id": "32629e00",
   "metadata": {},
   "outputs": [],
   "source": [
    "# !git add C:\\Users\\Neha\\Documents\\AML\\dvc_assignment\\data.dvc\n",
    "# #!git add C:\\Users\\Neha\\Documents\\AML\\Assignment2\\.dvignore\n",
    "# !git commit -m \"start tracking data new\""
   ]
  },
  {
   "cell_type": "code",
   "execution_count": 17,
   "id": "b4c599b9",
   "metadata": {},
   "outputs": [
    {
     "data": {
      "text/plain": [
       "(0.1314196008073559, 0.12903225806451613, 0.15978456014362658)"
      ]
     },
     "execution_count": 17,
     "metadata": {},
     "output_type": "execute_result"
    }
   ],
   "source": [
    "df_train = pd.read_csv('data/train.csv')\n",
    "df_test = pd.read_csv('data/test.csv')\n",
    "df_validation = pd.read_csv('data/validation.csv')\n",
    "df_train['label'].mean(),df_test['label'].mean(),df_validation['label'].mean()"
   ]
  },
  {
   "cell_type": "markdown",
   "id": "fe299d72",
   "metadata": {},
   "source": [
    "#### Changing seed from 42 to 9"
   ]
  },
  {
   "cell_type": "code",
   "execution_count": 18,
   "id": "e3161bce",
   "metadata": {},
   "outputs": [],
   "source": [
    "train_data, rem_data= train_test_split(df, train_size=0.8,random_state = 9)\n",
    "valid_data, test_data = train_test_split(rem_data, test_size=0.5,random_state = 9)"
   ]
  },
  {
   "cell_type": "code",
   "execution_count": 19,
   "id": "ef603fe3",
   "metadata": {},
   "outputs": [],
   "source": [
    "train_data.to_csv('data/train.csv',index = False)\n",
    "test_data.to_csv('data/test.csv',index = False)\n",
    "valid_data.to_csv('data/validation.csv',index = False)"
   ]
  },
  {
   "cell_type": "code",
   "execution_count": 20,
   "id": "53f2ea4c",
   "metadata": {},
   "outputs": [],
   "source": [
    "!dvc add data\n",
    "#!git add C:\\Users\\Neha\\Documents\\AML\\dvc_assignment\\data.dvc\n",
    "#!git commit -m \"changed random seed to 123 new\""
   ]
  },
  {
   "cell_type": "code",
   "execution_count": null,
   "id": "bc620f61",
   "metadata": {},
   "outputs": [],
   "source": []
  },
  {
   "cell_type": "code",
   "execution_count": 21,
   "id": "08a45c72",
   "metadata": {},
   "outputs": [
    {
     "name": "stdout",
     "output_type": "stream",
     "text": [
      "Data and pipelines are up to date.\n"
     ]
    }
   ],
   "source": [
    "!dvc status"
   ]
  },
  {
   "cell_type": "code",
   "execution_count": 22,
   "id": "ad2d6fca",
   "metadata": {},
   "outputs": [],
   "source": [
    "!git add data.dvc .gitignore"
   ]
  },
  {
   "cell_type": "code",
   "execution_count": 23,
   "id": "2409f2d1",
   "metadata": {},
   "outputs": [],
   "source": [
    "!dvc config core.autostage true"
   ]
  },
  {
   "cell_type": "code",
   "execution_count": 24,
   "id": "4f01cf3e",
   "metadata": {},
   "outputs": [
    {
     "name": "stdout",
     "output_type": "stream",
     "text": [
      "On branch master\n",
      "Changes to be committed:\n",
      "  (use \"git restore --staged <file>...\" to unstage)\n",
      "\tmodified:   data.dvc\n",
      "\n",
      "Changes not staged for commit:\n",
      "  (use \"git add <file>...\" to update what will be committed)\n",
      "  (use \"git restore <file>...\" to discard changes in working directory)\n",
      "\tmodified:   .dvc/config\n",
      "\n",
      "Untracked files:\n",
      "  (use \"git add <file>...\" to include in what will be committed)\n",
      "\t.ipynb_checkpoints/\n",
      "\tprepare.ipynb\n",
      "\n"
     ]
    }
   ],
   "source": [
    "!git status"
   ]
  },
  {
   "cell_type": "code",
   "execution_count": 25,
   "id": "63cef86e",
   "metadata": {},
   "outputs": [
    {
     "name": "stdout",
     "output_type": "stream",
     "text": [
      "[master c6c45b5] changed random seed to 9\n",
      " 1 file changed, 1 insertion(+), 1 deletion(-)\n"
     ]
    }
   ],
   "source": [
    "!git commit -m \"changed random seed to 9\""
   ]
  },
  {
   "cell_type": "code",
   "execution_count": 26,
   "id": "2d8af959",
   "metadata": {},
   "outputs": [
    {
     "name": "stdout",
     "output_type": "stream",
     "text": [
      "On branch master\n",
      "Changes not staged for commit:\n",
      "  (use \"git add <file>...\" to update what will be committed)\n",
      "  (use \"git restore <file>...\" to discard changes in working directory)\n",
      "\tmodified:   .dvc/config\n",
      "\n",
      "Untracked files:\n",
      "  (use \"git add <file>...\" to include in what will be committed)\n",
      "\t.ipynb_checkpoints/\n",
      "\tprepare.ipynb\n",
      "\n",
      "no changes added to commit (use \"git add\" and/or \"git commit -a\")\n"
     ]
    }
   ],
   "source": [
    "!git status"
   ]
  },
  {
   "cell_type": "code",
   "execution_count": 27,
   "id": "31c1355e",
   "metadata": {},
   "outputs": [
    {
     "data": {
      "text/plain": [
       "(0.13411078717201166, 0.14336917562724014, 0.12387791741472172)"
      ]
     },
     "execution_count": 27,
     "metadata": {},
     "output_type": "execute_result"
    }
   ],
   "source": [
    "df_train = pd.read_csv('data/train.csv')\n",
    "df_test = pd.read_csv('data/test.csv')\n",
    "df_validation = pd.read_csv('data/validation.csv')\n",
    "df_train['label'].mean(),df_test['label'].mean(),df_validation['label'].mean()"
   ]
  },
  {
   "cell_type": "code",
   "execution_count": 68,
   "id": "a64fc790",
   "metadata": {
    "scrolled": true
   },
   "outputs": [],
   "source": [
    "!dvc checkout data.dvc -f"
   ]
  },
  {
   "cell_type": "code",
   "execution_count": 61,
   "id": "e259d511",
   "metadata": {},
   "outputs": [],
   "source": [
    "!git restore --ours data.dvc"
   ]
  },
  {
   "cell_type": "code",
   "execution_count": 96,
   "id": "6912eee5",
   "metadata": {},
   "outputs": [
    {
     "data": {
      "text/plain": [
       "(105.8775, 108.62, 104.36)"
      ]
     },
     "execution_count": 96,
     "metadata": {},
     "output_type": "execute_result"
    }
   ],
   "source": [
    "df_train = pd.read_csv('data/train.csv')\n",
    "df_test = pd.read_csv('data/test.csv')\n",
    "df_validation = pd.read_csv('data/validation.csv')\n",
    "df_train['Weight'].mean(),df_test['Weight'].mean(),df_validation['Weight'].mean()"
   ]
  },
  {
   "cell_type": "markdown",
   "id": "00bc1552",
   "metadata": {},
   "source": [
    "#### Moving the head to the previous commit"
   ]
  },
  {
   "cell_type": "code",
   "execution_count": 28,
   "id": "add45948",
   "metadata": {},
   "outputs": [
    {
     "name": "stdout",
     "output_type": "stream",
     "text": [
      "HEAD is now at 32a830f start tracking data new_0\n"
     ]
    }
   ],
   "source": [
    "!git reset --hard 32a830f"
   ]
  },
  {
   "cell_type": "markdown",
   "id": "baf28536",
   "metadata": {},
   "source": [
    "#### The values not changed to previous version"
   ]
  },
  {
   "cell_type": "code",
   "execution_count": 30,
   "id": "d2505ca3",
   "metadata": {},
   "outputs": [
    {
     "data": {
      "text/plain": [
       "(0.13411078717201166, 0.14336917562724014, 0.12387791741472172)"
      ]
     },
     "execution_count": 30,
     "metadata": {},
     "output_type": "execute_result"
    }
   ],
   "source": [
    "df_train = pd.read_csv('data/train.csv')\n",
    "df_test = pd.read_csv('data/test.csv')\n",
    "df_validation = pd.read_csv('data/validation.csv')\n",
    "df_train['label'].mean(),df_test['label'].mean(),df_validation['label'].mean()"
   ]
  },
  {
   "cell_type": "code",
   "execution_count": 31,
   "id": "e1f2e679",
   "metadata": {},
   "outputs": [
    {
     "name": "stdout",
     "output_type": "stream",
     "text": [
      "On branch master\n",
      "Untracked files:\n",
      "  (use \"git add <file>...\" to include in what will be committed)\n",
      "\t.ipynb_checkpoints/\n",
      "\tprepare.ipynb\n",
      "\n",
      "nothing added to commit but untracked files present (use \"git add\" to track)\n"
     ]
    }
   ],
   "source": [
    "!git commit -m \"resetting previous commit\""
   ]
  },
  {
   "cell_type": "code",
   "execution_count": 32,
   "id": "9c650314",
   "metadata": {},
   "outputs": [
    {
     "name": "stdout",
     "output_type": "stream",
     "text": [
      "M       data\\\n"
     ]
    }
   ],
   "source": [
    "!dvc checkout "
   ]
  },
  {
   "cell_type": "code",
   "execution_count": 34,
   "id": "2a558b65",
   "metadata": {},
   "outputs": [
    {
     "data": {
      "text/plain": [
       "(0.1314196008073559, 0.12903225806451613, 0.15978456014362658)"
      ]
     },
     "execution_count": 34,
     "metadata": {},
     "output_type": "execute_result"
    }
   ],
   "source": [
    "df_train = pd.read_csv('data/train.csv')\n",
    "df_test = pd.read_csv('data/test.csv')\n",
    "df_validation = pd.read_csv('data/validation.csv')\n",
    "df_train['label'].mean(),df_test['label'].mean(),df_validation['label'].mean()"
   ]
  },
  {
   "cell_type": "markdown",
   "id": "3e14603c",
   "metadata": {},
   "source": [
    "### We are getting the previous data version"
   ]
  },
  {
   "cell_type": "code",
   "execution_count": null,
   "id": "d5f916d9",
   "metadata": {},
   "outputs": [],
   "source": []
  }
 ],
 "metadata": {
  "kernelspec": {
   "display_name": "Python 3 (ipykernel)",
   "language": "python",
   "name": "python3"
  },
  "language_info": {
   "codemirror_mode": {
    "name": "ipython",
    "version": 3
   },
   "file_extension": ".py",
   "mimetype": "text/x-python",
   "name": "python",
   "nbconvert_exporter": "python",
   "pygments_lexer": "ipython3",
   "version": "3.9.12"
  }
 },
 "nbformat": 4,
 "nbformat_minor": 5
}
