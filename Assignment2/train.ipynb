{
 "cells": [
  {
   "cell_type": "code",
   "execution_count": 1,
   "metadata": {
    "id": "oyX6iZHtJ9mD"
   },
   "outputs": [],
   "source": [
    "import pandas as pd\n",
    "import numpy as np\n",
    "import warnings\n",
    "import time\n",
    "import csv\n",
    "import seaborn as sns\n",
    "import matplotlib.pyplot as plt\n"
   ]
  },
  {
   "cell_type": "code",
   "execution_count": 2,
   "metadata": {
    "id": "RVeKIjA4KHM3"
   },
   "outputs": [],
   "source": [
    "%matplotlib inline\n",
    "import matplotlib.pyplot as plt\n",
    "import csv\n",
    "from textblob import TextBlob\n",
    "import pandas\n",
    "import sklearn\n",
    "#import cPickle\n",
    "import numpy as np\n",
    "from sklearn.feature_extraction.text import CountVectorizer, TfidfTransformer\n",
    "from sklearn.naive_bayes import MultinomialNB\n",
    "from sklearn.svm import SVC, LinearSVC\n",
    "from sklearn.metrics import classification_report, f1_score, accuracy_score, confusion_matrix\n",
    "from sklearn.pipeline import Pipeline\n",
    "#from sklearn.grid_search import GridSearchCV\n",
    "#from sklearn.cross_validation import StratifiedKFold, cross_val_score, train_test_split \n",
    "from sklearn.tree import DecisionTreeClassifier \n",
    "#from sklearn.learning_curve import learning_curve"
   ]
  },
  {
   "cell_type": "code",
   "execution_count": 3,
   "metadata": {},
   "outputs": [],
   "source": [
    "from sklearn.metrics import average_precision_score, precision_recall_curve\n",
    "from sklearn.metrics import auc, plot_precision_recall_curve"
   ]
  },
  {
   "cell_type": "code",
   "execution_count": 4,
   "metadata": {
    "id": "5wTIz4NrKLaC"
   },
   "outputs": [],
   "source": [
    "from sklearn.feature_extraction.text import CountVectorizer\n",
    "from sklearn.feature_extraction.text import TfidfTransformer"
   ]
  },
  {
   "cell_type": "markdown",
   "metadata": {
    "id": "DDDcOLKdTkRL"
   },
   "source": [
    "**Loading the train, test and validation data from the saved** **CSVs**"
   ]
  },
  {
   "cell_type": "code",
   "execution_count": 5,
   "metadata": {
    "id": "lKp5O036J8cH"
   },
   "outputs": [],
   "source": [
    "path = \"C:\\\\Users\\\\Neha\\\\Documents\\\\4th Sem\\\\AML\\\\Spam_detection\\\\data\\\\\"\n",
    "df_train = pd.read_csv(path + \"train.csv\")\n",
    "df_test = pd.read_csv(path + \"test.csv\")\n",
    "df_valid = pd.read_csv(path + \"valid.csv\")"
   ]
  },
  {
   "cell_type": "code",
   "execution_count": 6,
   "metadata": {
    "id": "7ltI3r43K54_"
   },
   "outputs": [],
   "source": [
    "x_train = df_train[\"x_train\"]\n",
    "y_train = df_train[\"y_train\"]"
   ]
  },
  {
   "cell_type": "code",
   "execution_count": 7,
   "metadata": {
    "id": "yjPME66FL18x"
   },
   "outputs": [],
   "source": [
    "x_test = df_test[\"x_test\"]\n",
    "y_test = df_test[\"y_test\"]"
   ]
  },
  {
   "cell_type": "code",
   "execution_count": 8,
   "metadata": {
    "id": "Uj2pjnVfMCSJ"
   },
   "outputs": [],
   "source": [
    "x_valid = df_valid[\"x_valid\"]\n",
    "y_valid = df_valid[\"y_valid\"]"
   ]
  },
  {
   "cell_type": "markdown",
   "metadata": {
    "id": "azaUCbClUA2k"
   },
   "source": [
    "**Function to split the messages into words**"
   ]
  },
  {
   "cell_type": "code",
   "execution_count": 9,
   "metadata": {
    "id": "f_ahlnEhLisF"
   },
   "outputs": [],
   "source": [
    "def split_into_lemmas(message):\n",
    "    message = str(message).lower()\n",
    "    words = TextBlob(message).words\n",
    "    return [word.lemma for word in words]"
   ]
  },
  {
   "cell_type": "code",
   "execution_count": 10,
   "metadata": {
    "id": "In46M1k7LoY6"
   },
   "outputs": [],
   "source": [
    "import nltk"
   ]
  },
  {
   "cell_type": "code",
   "execution_count": 11,
   "metadata": {},
   "outputs": [],
   "source": [
    "import mlflow"
   ]
  },
  {
   "cell_type": "markdown",
   "metadata": {
    "id": "2CNcsgNVUd8j"
   },
   "source": [
    "**Decision Tree Classifier**\n",
    "\n",
    "---\n",
    "\n"
   ]
  },
  {
   "cell_type": "code",
   "execution_count": 12,
   "metadata": {},
   "outputs": [],
   "source": [
    "EXPERIMENT_NAME = \"mlflow-spam-detection_011\"\n",
    "EXPERIMENT_ID = mlflow.create_experiment(EXPERIMENT_NAME)"
   ]
  },
  {
   "cell_type": "code",
   "execution_count": 13,
   "metadata": {},
   "outputs": [
    {
     "name": "stderr",
     "output_type": "stream",
     "text": [
      "C:\\Users\\Neha\\anaconda3\\lib\\site-packages\\_distutils_hack\\__init__.py:30: UserWarning: Setuptools is replacing distutils.\n",
      "  warnings.warn(\"Setuptools is replacing distutils.\")\n"
     ]
    }
   ],
   "source": [
    "for idx, depth in enumerate([1, 2, 5, 10, 20]):\n",
    "    #clf = DecisionTreeClassifier(max_depth=depth)\n",
    "    pipeline_decisicionTree = Pipeline([\n",
    "    ('bow', CountVectorizer(analyzer=split_into_lemmas)),  # strings to token integer counts\n",
    "    ('tfidf', TfidfTransformer()),  # integer counts to weighted TF-IDF scores\n",
    "    ('classifier', DecisionTreeClassifier(random_state=42,max_depth = depth)), \n",
    "      ])\n",
    "    #clf.fit(x_train, y_train)\n",
    "    pipeline_decisicionTree.fit(x_train,y_train)\n",
    "    #y_pred = clf.predict(x_test)\n",
    "    y_pred_tree = pipeline_decisicionTree.predict(x_valid)\n",
    "    report = classification_report(y_valid, y_pred_tree)\n",
    "    accuracy = accuracy_score(y_valid, y_pred_tree)\n",
    "    precision, recall, thresholds = precision_recall_curve(y_valid, y_pred_tree)\n",
    "    auc_precision_recall = auc(recall, precision)\n",
    "\n",
    "    \n",
    "    # Start MLflow\n",
    "    RUN_NAME = f\"run_{idx}\"\n",
    "    with mlflow.start_run(experiment_id=EXPERIMENT_ID, run_name=RUN_NAME) as run:\n",
    "        # Retrieve run id\n",
    "        RUN_ID = run.info.run_id\n",
    "\n",
    "        # Track parameters\n",
    "        mlflow.log_param(\"depth\", depth)\n",
    "\n",
    "        # Track metrics\n",
    "        mlflow.log_metric(\"accuracy\", accuracy)\n",
    "        mlflow.log_metric(\"AUCPR\", auc_precision_recall)\n",
    "\n",
    "        # Track model\n",
    "        mlflow.sklearn.log_model(pipeline_decisicionTree, \"classifier\")"
   ]
  },
  {
   "cell_type": "code",
   "execution_count": 14,
   "metadata": {},
   "outputs": [],
   "source": [
    "from mlflow.tracking import MlflowClient"
   ]
  },
  {
   "cell_type": "code",
   "execution_count": 15,
   "metadata": {},
   "outputs": [],
   "source": [
    "def print_run_info(runs):\n",
    "    for r in runs:\n",
    "        print(\"run_id: {}\".format(r.info.run_id))\n",
    "        print(\"lifecycle_stage: {}\".format(r.data.params))\n",
    "        print(\"metrics: {}\".format(r.data.metrics))\n",
    "\n",
    "        # Exclude mlflow system tags\n",
    "        tags = {k: v for k, v in r.data.tags.items() if not k.startswith(\"mlflow.\")}\n",
    "        print(\"tags: {}\".format(tags))\n"
   ]
  },
  {
   "cell_type": "code",
   "execution_count": 16,
   "metadata": {},
   "outputs": [],
   "source": [
    "client = MlflowClient()"
   ]
  },
  {
   "cell_type": "code",
   "execution_count": 17,
   "metadata": {},
   "outputs": [
    {
     "name": "stdout",
     "output_type": "stream",
     "text": [
      "run_id: d1284316d39f4451bc5097c9af9c0393\n",
      "lifecycle_stage: {'depth': '20'}\n",
      "metrics: {'accuracy': 0.9658886894075404, 'AUCPR': 0.8732346475348474}\n",
      "tags: {}\n",
      "run_id: bc26cc823bd745878ae1deea56911792\n",
      "lifecycle_stage: {'depth': '10'}\n",
      "metrics: {'accuracy': 0.9712746858168761, 'AUCPR': 0.893947999556516}\n",
      "tags: {}\n",
      "run_id: 719981ba3b5347319b84e40cc7d94618\n",
      "lifecycle_stage: {'depth': '5'}\n",
      "metrics: {'accuracy': 0.9533213644524237, 'AUCPR': 0.8255091180344677}\n",
      "tags: {}\n",
      "run_id: 2e11593c2c9a47c9891265ec7670a077\n",
      "lifecycle_stage: {'depth': '2'}\n",
      "metrics: {'accuracy': 0.926391382405745, 'AUCPR': 0.7134064835991745}\n",
      "tags: {}\n",
      "run_id: 4a4b4e86f51d467f8bdd99dc900384ef\n",
      "lifecycle_stage: {'depth': '1'}\n",
      "metrics: {'accuracy': 0.8707360861759426, 'AUCPR': 0.4939735537751926}\n",
      "tags: {}\n",
      "--\n"
     ]
    }
   ],
   "source": [
    "runs = client.search_runs(EXPERIMENT_ID, order_by=[\"metrics.m DESC\"])\n",
    "print_run_info(runs)\n",
    "print(\"--\")"
   ]
  },
  {
   "cell_type": "markdown",
   "metadata": {
    "id": "DcjzzR1gUSfU"
   },
   "source": [
    "**Naive Bayes Model**\n",
    "\n",
    "---\n",
    "\n",
    "\n"
   ]
  },
  {
   "cell_type": "code",
   "execution_count": 18,
   "metadata": {},
   "outputs": [],
   "source": [
    "EXPERIMENT_NAME_BM = \"mlflow-spam-detection-bayes_0110\"\n",
    "EXPERIMENT_ID_BM = mlflow.create_experiment(EXPERIMENT_NAME_BM)"
   ]
  },
  {
   "cell_type": "code",
   "execution_count": 19,
   "metadata": {},
   "outputs": [],
   "source": [
    "for idx, depth in enumerate([0.01,0.05,0.1,0.5,1]):\n",
    "    #clf = DecisionTreeClassifier(max_depth=depth)\n",
    "    pipeline = Pipeline([\n",
    "    ('bow', CountVectorizer(analyzer=split_into_lemmas)),  # strings to token integer counts\n",
    "    ('tfidf', TfidfTransformer()),  # integer counts to weighted TF-IDF scores\n",
    "    ('classifier', MultinomialNB(alpha = depth)),  # train on TF-IDF vectors w/ Naive Bayes classifier\n",
    "        ])\n",
    "    #clf.fit(x_train, y_train)\n",
    "    pipeline.fit(x_train,y_train)\n",
    "    #y_pred = clf.predict(x_test)\n",
    "    y_pred_NB = pipeline.predict(x_valid)\n",
    "    report = classification_report(y_valid, y_pred_NB)\n",
    "    accuracy = accuracy_score(y_valid, y_pred_NB)\n",
    "    precision, recall, thresholds = precision_recall_curve(y_valid, y_pred_NB)\n",
    "    auc_precision_recall = auc(recall, precision)\n",
    "\n",
    "    # Start MLflow\n",
    "    RUN_NAME_1 = f\"run_{idx}\"\n",
    "    with mlflow.start_run(experiment_id=EXPERIMENT_ID_BM, run_name=RUN_NAME_1) as run:\n",
    "        # Retrieve run id\n",
    "        RUN_ID = run.info.run_id\n",
    "\n",
    "        # Track parameters\n",
    "        mlflow.log_param(\"depth\", depth)\n",
    "\n",
    "        # Track metrics\n",
    "        mlflow.log_metric(\"accuracy\", accuracy)\n",
    "        mlflow.log_metric(\"AUCPR\", auc_precision_recall)\n",
    "\n",
    "        # Track model\n",
    "        mlflow.sklearn.log_model(pipeline, \"classifier\")"
   ]
  },
  {
   "cell_type": "code",
   "execution_count": 20,
   "metadata": {},
   "outputs": [],
   "source": [
    "client2 = MlflowClient()"
   ]
  },
  {
   "cell_type": "code",
   "execution_count": 21,
   "metadata": {},
   "outputs": [
    {
     "name": "stdout",
     "output_type": "stream",
     "text": [
      "run_id: 1d6b40300d4d48bfa6898582c849fca2\n",
      "lifecycle_stage: {'depth': '1'}\n",
      "metrics: {'accuracy': 0.9551166965888689, 'AUCPR': 0.8463853136773966}\n",
      "tags: {}\n",
      "run_id: 737e3fc9174546d0a26106c9d00a8b73\n",
      "lifecycle_stage: {'depth': '0.5'}\n",
      "metrics: {'accuracy': 0.9748653500897666, 'AUCPR': 0.9139757756593421}\n",
      "tags: {}\n",
      "run_id: 997cd45125bb450e95060fe99a14a851\n",
      "lifecycle_stage: {'depth': '0.1'}\n",
      "metrics: {'accuracy': 0.9910233393177738, 'AUCPR': 0.9692770627354793}\n",
      "tags: {}\n",
      "run_id: f13b49891d8e4e33bd1557c3b79c71dd\n",
      "lifecycle_stage: {'depth': '0.05'}\n",
      "metrics: {'accuracy': 0.9910233393177738, 'AUCPR': 0.9692770627354793}\n",
      "tags: {}\n",
      "run_id: 75d6a4c9179541559a1e9c463ac46165\n",
      "lifecycle_stage: {'depth': '0.01'}\n",
      "metrics: {'accuracy': 0.9910233393177738, 'AUCPR': 0.9692770627354793}\n",
      "tags: {}\n",
      "--\n"
     ]
    }
   ],
   "source": [
    "runs_BM = client2.search_runs(EXPERIMENT_ID_BM, order_by=[\"metrics.m DESC\"])\n",
    "print_run_info(runs_BM)\n",
    "print(\"--\")"
   ]
  },
  {
   "cell_type": "markdown",
   "metadata": {
    "id": "UUYkgiXHUm3G"
   },
   "source": [
    "**Random Forest Classifier**\n",
    "\n",
    "---\n",
    "\n"
   ]
  },
  {
   "cell_type": "code",
   "execution_count": 22,
   "metadata": {},
   "outputs": [],
   "source": [
    "EXPERIMENT_NAME_RF = \"mlflow-spam-detection-random-forestnew_0011\"\n",
    "EXPERIMENT_ID_RF = mlflow.create_experiment(EXPERIMENT_NAME_RF)"
   ]
  },
  {
   "cell_type": "code",
   "execution_count": 23,
   "metadata": {
    "id": "KvH5UZAh4GKS"
   },
   "outputs": [],
   "source": [
    "from sklearn.ensemble import RandomForestClassifier"
   ]
  },
  {
   "cell_type": "code",
   "execution_count": 24,
   "metadata": {},
   "outputs": [
    {
     "name": "stderr",
     "output_type": "stream",
     "text": [
      "C:\\Users\\Neha\\anaconda3\\lib\\site-packages\\sklearn\\metrics\\_classification.py:1318: UndefinedMetricWarning: Precision and F-score are ill-defined and being set to 0.0 in labels with no predicted samples. Use `zero_division` parameter to control this behavior.\n",
      "  _warn_prf(average, modifier, msg_start, len(result))\n",
      "C:\\Users\\Neha\\anaconda3\\lib\\site-packages\\sklearn\\metrics\\_classification.py:1318: UndefinedMetricWarning: Precision and F-score are ill-defined and being set to 0.0 in labels with no predicted samples. Use `zero_division` parameter to control this behavior.\n",
      "  _warn_prf(average, modifier, msg_start, len(result))\n",
      "C:\\Users\\Neha\\anaconda3\\lib\\site-packages\\sklearn\\metrics\\_classification.py:1318: UndefinedMetricWarning: Precision and F-score are ill-defined and being set to 0.0 in labels with no predicted samples. Use `zero_division` parameter to control this behavior.\n",
      "  _warn_prf(average, modifier, msg_start, len(result))\n",
      "C:\\Users\\Neha\\anaconda3\\lib\\site-packages\\sklearn\\metrics\\_classification.py:1318: UndefinedMetricWarning: Precision and F-score are ill-defined and being set to 0.0 in labels with no predicted samples. Use `zero_division` parameter to control this behavior.\n",
      "  _warn_prf(average, modifier, msg_start, len(result))\n",
      "C:\\Users\\Neha\\anaconda3\\lib\\site-packages\\sklearn\\metrics\\_classification.py:1318: UndefinedMetricWarning: Precision and F-score are ill-defined and being set to 0.0 in labels with no predicted samples. Use `zero_division` parameter to control this behavior.\n",
      "  _warn_prf(average, modifier, msg_start, len(result))\n",
      "C:\\Users\\Neha\\anaconda3\\lib\\site-packages\\sklearn\\metrics\\_classification.py:1318: UndefinedMetricWarning: Precision and F-score are ill-defined and being set to 0.0 in labels with no predicted samples. Use `zero_division` parameter to control this behavior.\n",
      "  _warn_prf(average, modifier, msg_start, len(result))\n",
      "C:\\Users\\Neha\\anaconda3\\lib\\site-packages\\sklearn\\metrics\\_classification.py:1318: UndefinedMetricWarning: Precision and F-score are ill-defined and being set to 0.0 in labels with no predicted samples. Use `zero_division` parameter to control this behavior.\n",
      "  _warn_prf(average, modifier, msg_start, len(result))\n",
      "C:\\Users\\Neha\\anaconda3\\lib\\site-packages\\sklearn\\metrics\\_classification.py:1318: UndefinedMetricWarning: Precision and F-score are ill-defined and being set to 0.0 in labels with no predicted samples. Use `zero_division` parameter to control this behavior.\n",
      "  _warn_prf(average, modifier, msg_start, len(result))\n",
      "C:\\Users\\Neha\\anaconda3\\lib\\site-packages\\sklearn\\metrics\\_classification.py:1318: UndefinedMetricWarning: Precision and F-score are ill-defined and being set to 0.0 in labels with no predicted samples. Use `zero_division` parameter to control this behavior.\n",
      "  _warn_prf(average, modifier, msg_start, len(result))\n"
     ]
    }
   ],
   "source": [
    "for idx, depth in enumerate([1, 2, 5, 10, 20]):\n",
    "    #clf = DecisionTreeClassifier(max_depth=depth)\n",
    "    \n",
    "    \n",
    "    pipeline_random_forest = Pipeline([\n",
    "    ('bow', CountVectorizer(analyzer=split_into_lemmas)),  # strings to token integer counts\n",
    "    ('tfidf', TfidfTransformer()),  # integer counts to weighted TF-IDF scores\n",
    "    ('classifier', RandomForestClassifier(random_state=42,max_depth = depth)),  # train on TF-IDF vectors w/ Naive Bayes classifier\n",
    "      ])\n",
    "    \n",
    "    pipeline_random_forest.fit(x_train,y_train)\n",
    "    #y_pred = clf.predict(x_test)\n",
    "    y_pred_random_forest = pipeline_random_forest.predict(x_valid)\n",
    "    report = classification_report(y_valid, y_pred_random_forest)\n",
    "    accuracy_random_forest = accuracy_score(y_valid, y_pred_random_forest)\n",
    "    precision, recall, thresholds = precision_recall_curve(y_valid, y_pred_tree)\n",
    "    auc_precision_recall = auc(recall, precision)\n",
    "\n",
    "    # Start MLflow\n",
    "    RUN_NAME_RF = f\"run_{idx}\"\n",
    "    with mlflow.start_run(experiment_id=EXPERIMENT_ID_RF, run_name=RUN_NAME_RF) as run:\n",
    "        # Retrieve run id\n",
    "        RUN_ID = run.info.run_id\n",
    "\n",
    "        # Track parameters\n",
    "        mlflow.log_param(\"depth\", depth)\n",
    "\n",
    "        # Track metrics\n",
    "        mlflow.log_metric(\"accuracy_rf\", accuracy_random_forest)\n",
    "        mlflow.log_metric(\"AUCPR\", auc_precision_recall)\n",
    "\n",
    "        # Track model\n",
    "        mlflow.sklearn.log_model(pipeline_random_forest, \"classifier\")"
   ]
  },
  {
   "cell_type": "code",
   "execution_count": 46,
   "metadata": {},
   "outputs": [],
   "source": [
    "client3 = MlflowClient()"
   ]
  },
  {
   "cell_type": "code",
   "execution_count": 47,
   "metadata": {},
   "outputs": [
    {
     "name": "stdout",
     "output_type": "stream",
     "text": [
      "run_id: 1bd945df0b554eeb8927cc68e15c7e9b\n",
      "lifecycle_stage: {'depth': '20'}\n",
      "metrics: {'accuracy_rf': 0.9569120287253142}\n",
      "tags: {}\n",
      "run_id: a9811a7b86be447d98bb8d8d72e59d8e\n",
      "lifecycle_stage: {'depth': '10'}\n",
      "metrics: {'accuracy_rf': 0.9102333931777379}\n",
      "tags: {}\n",
      "run_id: 95ae06887db3440cb687b5aca92ec432\n",
      "lifecycle_stage: {'depth': '5'}\n",
      "metrics: {'accuracy_rf': 0.874326750448833}\n",
      "tags: {}\n",
      "run_id: f68a6054925b4a9b90933f4274a37a27\n",
      "lifecycle_stage: {'depth': '2'}\n",
      "metrics: {'accuracy_rf': 0.8725314183123878}\n",
      "tags: {}\n",
      "run_id: eef299c1acbc45a5a6c4459b3caeb352\n",
      "lifecycle_stage: {'depth': '1'}\n",
      "metrics: {'accuracy_rf': 0.8725314183123878}\n",
      "tags: {}\n",
      "--\n"
     ]
    }
   ],
   "source": [
    "runs_1 = client3.search_runs(EXPERIMENT_ID_RF, order_by=[\"metrics.m DESC\"])\n",
    "print_run_info(runs_1)\n",
    "print(\"--\")"
   ]
  }
 ],
 "metadata": {
  "colab": {
   "provenance": []
  },
  "kernelspec": {
   "display_name": "Python 3 (ipykernel)",
   "language": "python",
   "name": "python3"
  },
  "language_info": {
   "codemirror_mode": {
    "name": "ipython",
    "version": 3
   },
   "file_extension": ".py",
   "mimetype": "text/x-python",
   "name": "python",
   "nbconvert_exporter": "python",
   "pygments_lexer": "ipython3",
   "version": "3.9.12"
  }
 },
 "nbformat": 4,
 "nbformat_minor": 1
}
